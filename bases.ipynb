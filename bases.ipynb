{
 "cells": [
  {
   "cell_type": "code",
   "execution_count": 46,
   "metadata": {},
   "outputs": [
    {
     "data": {
      "text/plain": [
       "digitos (generic function with 1 method)"
      ]
     },
     "metadata": {},
     "output_type": "display_data"
    }
   ],
   "source": [
    "function digitos(n, base, digitos)\n",
    "    digitos_base = zeros(Int, digitos)\n",
    "    iterator=0\n",
    "    while n > 0\n",
    "        digitos_base[end-iterator] = n%base\n",
    "        n = div(n, base)\n",
    "        iterator+=1\n",
    "        if iterator == digitos\n",
    "            println(\"El número tiene más dígitos que los solicitados\")\n",
    "        end\n",
    "    end\n",
    "    return digitos_base\n",
    "end"
   ]
  }
 ],
 "metadata": {
  "kernelspec": {
   "display_name": "Julia 1.11.3",
   "language": "julia",
   "name": "julia-1.11"
  },
  "language_info": {
   "file_extension": ".jl",
   "mimetype": "application/julia",
   "name": "julia",
   "version": "1.11.3"
  }
 },
 "nbformat": 4,
 "nbformat_minor": 2
}
