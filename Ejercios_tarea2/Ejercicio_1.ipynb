{
 "cells": [
  {
   "cell_type": "markdown",
   "metadata": {},
   "source": [
    "Queremos generar un vector aleatorio con 20 entradas usando la función rand"
   ]
  },
  {
   "cell_type": "code",
   "execution_count": 1,
   "metadata": {},
   "outputs": [
    {
     "data": {
      "text/plain": [
       "20-element Vector{Int64}:\n",
       "  2\n",
       "  8\n",
       "  3\n",
       " 14\n",
       "  3\n",
       "  1\n",
       " 18\n",
       " 12\n",
       " 11\n",
       "  9\n",
       " 11\n",
       " 18\n",
       "  2\n",
       "  5\n",
       " 18\n",
       "  3\n",
       " 13\n",
       "  7\n",
       "  5\n",
       " 16"
      ]
     },
     "metadata": {},
     "output_type": "display_data"
    }
   ],
   "source": [
    "vector_aleatorio= rand(1:20, 20)"
   ]
  },
  {
   "cell_type": "markdown",
   "metadata": {},
   "source": [
    "Usando sort! se puede reordenar"
   ]
  },
  {
   "cell_type": "code",
   "execution_count": 2,
   "metadata": {},
   "outputs": [
    {
     "data": {
      "text/plain": [
       "20-element Vector{Int64}:\n",
       "  1\n",
       "  2\n",
       "  2\n",
       "  3\n",
       "  3\n",
       "  3\n",
       "  5\n",
       "  5\n",
       "  7\n",
       "  8\n",
       "  9\n",
       " 11\n",
       " 11\n",
       " 12\n",
       " 13\n",
       " 14\n",
       " 16\n",
       " 18\n",
       " 18\n",
       " 18"
      ]
     },
     "metadata": {},
     "output_type": "display_data"
    }
   ],
   "source": [
    "sort!(vector_aleatorio)"
   ]
  },
  {
   "cell_type": "markdown",
   "metadata": {},
   "source": [
    "Para ordenarlo de mayor a menor usamos reverse!"
   ]
  },
  {
   "cell_type": "code",
   "execution_count": 4,
   "metadata": {},
   "outputs": [
    {
     "data": {
      "text/plain": [
       "20-element Vector{Int64}:\n",
       " 18\n",
       " 18\n",
       " 18\n",
       " 16\n",
       " 14\n",
       " 13\n",
       " 12\n",
       " 11\n",
       " 11\n",
       "  9\n",
       "  8\n",
       "  7\n",
       "  5\n",
       "  5\n",
       "  3\n",
       "  3\n",
       "  3\n",
       "  2\n",
       "  2\n",
       "  1"
      ]
     },
     "metadata": {},
     "output_type": "display_data"
    }
   ],
   "source": [
    "reverse!(vector_aleatorio)"
   ]
  },
  {
   "cell_type": "markdown",
   "metadata": {},
   "source": [
    "Ahora vamos a hacer una copia de este vector sin que este referenciado al original"
   ]
  },
  {
   "cell_type": "code",
   "execution_count": 5,
   "metadata": {},
   "outputs": [
    {
     "data": {
      "text/plain": [
       "1-element Vector{Vector{Int64}}:\n",
       " [18, 18, 18, 16, 14, 13, 12, 11, 11, 9, 8, 7, 5, 5, 3, 3, 3, 2, 2, 1]"
      ]
     },
     "metadata": {},
     "output_type": "display_data"
    }
   ],
   "source": [
    "original = [vector_aleatorio]\n",
    "copy = deepcopy(original)"
   ]
  },
  {
   "cell_type": "markdown",
   "metadata": {},
   "source": [
    "Comprobemos usando nuevamente reverse en el original"
   ]
  },
  {
   "cell_type": "code",
   "execution_count": 10,
   "metadata": {},
   "outputs": [
    {
     "data": {
      "text/plain": [
       "20-element Vector{Int64}:\n",
       "  1\n",
       "  2\n",
       "  2\n",
       "  3\n",
       "  3\n",
       "  3\n",
       "  5\n",
       "  5\n",
       "  7\n",
       "  8\n",
       "  9\n",
       " 11\n",
       " 11\n",
       " 12\n",
       " 13\n",
       " 14\n",
       " 16\n",
       " 18\n",
       " 18\n",
       " 18"
      ]
     },
     "metadata": {},
     "output_type": "display_data"
    }
   ],
   "source": [
    "original[1]=reverse!(original[1])"
   ]
  },
  {
   "cell_type": "code",
   "execution_count": 11,
   "metadata": {},
   "outputs": [
    {
     "data": {
      "text/plain": [
       "false"
      ]
     },
     "metadata": {},
     "output_type": "display_data"
    }
   ],
   "source": [
    "original[1] == copy[1]"
   ]
  }
 ],
 "metadata": {
  "kernelspec": {
   "display_name": "Julia 1.11.3",
   "language": "julia",
   "name": "julia-1.11"
  },
  "language_info": {
   "file_extension": ".jl",
   "mimetype": "application/julia",
   "name": "julia",
   "version": "1.11.3"
  }
 },
 "nbformat": 4,
 "nbformat_minor": 2
}
