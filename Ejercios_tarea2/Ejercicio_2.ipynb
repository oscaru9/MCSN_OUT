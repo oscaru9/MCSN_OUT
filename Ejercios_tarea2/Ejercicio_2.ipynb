{
 "cells": [
  {
   "cell_type": "markdown",
   "metadata": {},
   "source": [
    "Queremos usar el método de Newton-Raphson para encontrar las raíces de la función A=x^2sec^2(x)"
   ]
  },
  {
   "cell_type": "code",
   "execution_count": 5,
   "metadata": {},
   "outputs": [
    {
     "data": {
      "text/plain": [
       "newton_a (generic function with 3 methods)"
      ]
     },
     "execution_count": 5,
     "metadata": {},
     "output_type": "execute_result"
    }
   ],
   "source": [
    "function newton_a(x0, tol=1e-6, max_iter=100)\n",
    "    x = x0\n",
    "    f(x)=(x*sec(x))^2\n",
    "    for i in 1:max_iter\n",
    "        x = x - x/(2(1+tan(x))) # f(x) = x/(2(1+tan(x)))\n",
    "        if abs(f(x)) < tol\n",
    "            return x\n",
    "        end\n",
    "    end\n",
    "    return x\n",
    "    \n",
    "end"
   ]
  },
  {
   "cell_type": "code",
   "execution_count": 17,
   "metadata": {},
   "outputs": [
    {
     "data": {
      "text/plain": [
       "0.0008681930830472737"
      ]
     },
     "execution_count": 17,
     "metadata": {},
     "output_type": "execute_result"
    }
   ],
   "source": [
    "newton_a(9.0)"
   ]
  },
  {
   "cell_type": "code",
   "execution_count": 3,
   "metadata": {},
   "outputs": [
    {
     "name": "stdout",
     "output_type": "stream",
     "text": [
      "-1\n",
      "0\n",
      "1\n"
     ]
    }
   ],
   "source": [
    "for i in -1:1\n",
    "    println(i)\n",
    "end"
   ]
  },
  {
   "cell_type": "code",
   "execution_count": 28,
   "metadata": {},
   "outputs": [
    {
     "ename": "LoadError",
     "evalue": "ParseError:\n\u001b[90m# Error @ \u001b[0;0m\u001b]8;;file://d:/Git/MCSN/MCSN_OUT/Ejercios_tarea2/In[28]#7:1\u001b\\\u001b[90mIn[28]:7:1\u001b[0;0m\u001b]8;;\u001b\\\n    \n\u001b[48;2;120;70;70mend\u001b[0;0m\n\u001b[90m└─┘ ── \u001b[0;0m\u001b[91minvalid identifier\u001b[0;0m",
     "output_type": "error",
     "traceback": [
      "ParseError:\n\u001b[90m# Error @ \u001b[0;0m\u001b]8;;file://d:/Git/MCSN/MCSN_OUT/Ejercios_tarea2/In[28]#7:1\u001b\\\u001b[90mIn[28]:7:1\u001b[0;0m\u001b]8;;\u001b\\\n    \n\u001b[48;2;120;70;70mend\u001b[0;0m\n\u001b[90m└─┘ ── \u001b[0;0m\u001b[91minvalid identifier\u001b[0;0m",
      "",
      "Stacktrace:",
      " [1] top-level scope",
      "   @ In[28]:7"
     ]
    }
   ],
   "source": [
    "x=zeros(22)\n",
    "\n",
    "for i in -10:10\n",
    "    x[i+11]=newton_a(i)\n",
    "    end\n",
    "    \n",
    "end"
   ]
  },
  {
   "cell_type": "code",
   "execution_count": 29,
   "metadata": {},
   "outputs": [
    {
     "data": {
      "text/plain": [
       "22-element Vector{Float64}:\n",
       "  0.0006534030781386458\n",
       " -0.0005307170946964936\n",
       " -1.5707963267948966\n",
       " -0.0009256816916120206\n",
       "  0.0005116283583556201\n",
       " -1.5707963267948966\n",
       " -1.5707963267948966\n",
       " -1.5707963267948966\n",
       " -1.5707963267948966\n",
       " -1.5707963267948966\n",
       "  0.0\n",
       "  0.0009332861589381461\n",
       "  0.000895133288364277\n",
       "  0.0006718693251131722\n",
       "  0.0005286493281143401\n",
       " -1.5707963267948966\n",
       "  0.0008913271716092588\n",
       "  0.0006307637200889296\n",
       "  0.0008937358436925\n",
       "  0.0008681930830472737\n",
       "  0.0007406437043072699\n",
       "  0.0"
      ]
     },
     "execution_count": 29,
     "metadata": {},
     "output_type": "execute_result"
    }
   ],
   "source": [
    "x"
   ]
  },
  {
   "cell_type": "code",
   "execution_count": null,
   "metadata": {},
   "outputs": [
    {
     "ename": "LoadError",
     "evalue": "MethodError: no method matching sec(::UnitRange{Int64})\nThe function `sec` exists, but no method is defined for this combination of argument types.\n\n\u001b[0mClosest candidates are:\n\u001b[0m  sec(\u001b[91m::IrrationalConstants.Quartπ\u001b[39m)\n\u001b[0m\u001b[90m   @\u001b[39m \u001b[35mIrrationalConstants\u001b[39m \u001b[90mC:\\Users\\52331\\.julia\\packages\\IrrationalConstants\\lWTip\\src\\\u001b[39m\u001b[90m\u001b[4mtrigonometric.jl:34\u001b[24m\u001b[39m\n\u001b[0m  sec(\u001b[91m::BigFloat\u001b[39m)\n\u001b[0m\u001b[90m   @\u001b[39m \u001b[90mBase\u001b[39m \u001b[90m\u001b[4mmpfr.jl:860\u001b[24m\u001b[39m\n\u001b[0m  sec(\u001b[91m::AbstractGray\u001b[39m)\n\u001b[0m\u001b[90m   @\u001b[39m \u001b[36mColorVectorSpace\u001b[39m \u001b[90mC:\\Users\\52331\\.julia\\packages\\ColorVectorSpace\\tLy1N\\src\\\u001b[39m\u001b[90m\u001b[4mColorVectorSpace.jl:303\u001b[24m\u001b[39m\n\u001b[0m  ...\n",
     "output_type": "error",
     "traceback": [
      "MethodError: no method matching sec(::UnitRange{Int64})\nThe function `sec` exists, but no method is defined for this combination of argument types.\n\n\u001b[0mClosest candidates are:\n\u001b[0m  sec(\u001b[91m::IrrationalConstants.Quartπ\u001b[39m)\n\u001b[0m\u001b[90m   @\u001b[39m \u001b[35mIrrationalConstants\u001b[39m \u001b[90mC:\\Users\\52331\\.julia\\packages\\IrrationalConstants\\lWTip\\src\\\u001b[39m\u001b[90m\u001b[4mtrigonometric.jl:34\u001b[24m\u001b[39m\n\u001b[0m  sec(\u001b[91m::BigFloat\u001b[39m)\n\u001b[0m\u001b[90m   @\u001b[39m \u001b[90mBase\u001b[39m \u001b[90m\u001b[4mmpfr.jl:860\u001b[24m\u001b[39m\n\u001b[0m  sec(\u001b[91m::AbstractGray\u001b[39m)\n\u001b[0m\u001b[90m   @\u001b[39m \u001b[36mColorVectorSpace\u001b[39m \u001b[90mC:\\Users\\52331\\.julia\\packages\\ColorVectorSpace\\tLy1N\\src\\\u001b[39m\u001b[90m\u001b[4mColorVectorSpace.jl:303\u001b[24m\u001b[39m\n\u001b[0m  ...\n",
      "",
      "Stacktrace:",
      " [1] top-level scope",
      "   @ In[43]:3"
     ]
    }
   ],
   "source": [
    "using Plots\n",
    "x1=-10:10\n",
    "y=(x1.*sec(x1.)).^2\n"
   ]
  },
  {
   "cell_type": "code",
   "execution_count": 17,
   "metadata": {},
   "outputs": [
    {
     "data": {
      "text/plain": [
       "21-element Vector{Float64}:\n",
       " 1.0\n",
       " 2.0\n",
       " 3.0\n",
       " 0.0\n",
       " 0.0\n",
       " 0.0\n",
       " 0.0\n",
       " 0.0\n",
       " 0.0\n",
       " 0.0\n",
       " 0.0\n",
       " 0.0\n",
       " 0.0\n",
       " 0.0\n",
       " 0.0\n",
       " 0.0\n",
       " 0.0\n",
       " 0.0\n",
       " 0.0\n",
       " 0.0\n",
       " 0.0"
      ]
     },
     "execution_count": 17,
     "metadata": {},
     "output_type": "execute_result"
    }
   ],
   "source": [
    "x"
   ]
  },
  {
   "cell_type": "code",
   "execution_count": null,
   "metadata": {},
   "outputs": [],
   "source": []
  }
 ],
 "metadata": {
  "kernelspec": {
   "display_name": "Julia 1.11.3",
   "language": "julia",
   "name": "julia-1.11"
  },
  "language_info": {
   "file_extension": ".jl",
   "mimetype": "application/julia",
   "name": "julia",
   "version": "1.11.3"
  }
 },
 "nbformat": 4,
 "nbformat_minor": 2
}
