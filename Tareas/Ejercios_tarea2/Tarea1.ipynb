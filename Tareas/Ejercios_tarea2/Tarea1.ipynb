{
 "cells": [
  {
   "cell_type": "markdown",
   "metadata": {},
   "source": [
    "Método de Newton-Raphson\n",
    "\n",
    "$x_{n+1}=x_{n} - \\frac{f(x_n)}{f'(x_n)}$"
   ]
  },
  {
   "cell_type": "markdown",
   "metadata": {},
   "source": [
    "ForwarDiff nos ayuda a evualar la derivada de la función f(x) en un punto.\n",
    "\n",
    "La siguiente función utiliza el método de Newton - Raphson, la cual tiene como entrada la función, un punto inicial, una tolerancia y el máximo de iteracciones a realizar.\n",
    "\n",
    "La función se hizo para que nos regresa la raíz de la función, en caso de no converger regresa \"El método no convergió\"."
   ]
  },
  {
   "cell_type": "code",
   "execution_count": null,
   "metadata": {},
   "outputs": [
    {
     "data": {
      "text/plain": [
       "newton (generic function with 3 methods)"
      ]
     },
     "execution_count": 2,
     "metadata": {},
     "output_type": "execute_result"
    }
   ],
   "source": [
    "using ForwardDiff\n",
    "function newton(f, x0, tol=1e-6, maxiter=100)\n",
    "    \n",
    "    x = x0\n",
    "    for i in 1:maxiter\n",
    "        x = x - f(x) / ForwardDiff.derivative(f, x)\n",
    "        if abs(f(x)) < tol\n",
    "            return println(\"La raíz es: \", x, \" Encontrado en la iteracción: \", i)\n",
    "        end\n",
    "    end\n",
    "    if abs(f(x)) > tol\n",
    "        println(\"El método no convergió\")\n",
    "    else\n",
    "        return println(\"La raíz es: \", x)\n",
    "    end\n",
    "end"
   ]
  },
  {
   "cell_type": "markdown",
   "metadata": {},
   "source": [
    "Escribimos la ecuación que queremos resolver"
   ]
  },
  {
   "cell_type": "code",
   "execution_count": 1,
   "metadata": {},
   "outputs": [
    {
     "data": {
      "text/plain": [
       "f (generic function with 1 method)"
      ]
     },
     "execution_count": 1,
     "metadata": {},
     "output_type": "execute_result"
    }
   ],
   "source": [
    "f(x)=x^2- 4"
   ]
  },
  {
   "cell_type": "code",
   "execution_count": 3,
   "metadata": {},
   "outputs": [
    {
     "name": "stdout",
     "output_type": "stream",
     "text": [
      "La raíz es: -2.0000000929222947Encontrado en la iteracción: 4\n"
     ]
    }
   ],
   "source": [
    "newton(f, -1.0)\n"
   ]
  },
  {
   "cell_type": "code",
   "execution_count": 4,
   "metadata": {},
   "outputs": [
    {
     "data": {
      "text/plain": [
       "f1 (generic function with 1 method)"
      ]
     },
     "execution_count": 4,
     "metadata": {},
     "output_type": "execute_result"
    }
   ],
   "source": [
    "f1(x)=(x*sec(x))^2"
   ]
  },
  {
   "cell_type": "code",
   "execution_count": 7,
   "metadata": {},
   "outputs": [
    {
     "name": "stdout",
     "output_type": "stream",
     "text": [
      "El método no convergió\n",
      "El método no convergió\n",
      "El método no convergió\n",
      "La raíz es: 0.0008395505012376265Encontrado en la iteracción: 68\n",
      "La raíz es: -0.0009918106062396324Encontrado en la iteracción: 16\n",
      "La raíz es: -0.0009596692178361012Encontrado en la iteracción: 36\n",
      "La raíz es: -0.0009353746682841817Encontrado en la iteracción: 14\n",
      "La raíz es: -0.0008901776754305726Encontrado en la iteracción: 10\n",
      "La raíz es: -0.0009995294147887987Encontrado en la iteracción: 13\n",
      "La raíz es: -0.0008751085869749475Encontrado en la iteracción: 12\n",
      "La raíz es: NaN\n",
      "La raíz es: 0.0008751085869749475Encontrado en la iteracción: 12\n",
      "La raíz es: 0.0009995294147887987Encontrado en la iteracción: 13\n",
      "La raíz es: 0.0008901776754305726Encontrado en la iteracción: 10\n",
      "La raíz es: 0.0009353746682841817Encontrado en la iteracción: 14\n",
      "La raíz es: 0.0009596692178361012Encontrado en la iteracción: 36\n",
      "La raíz es: 0.0009918106062396324Encontrado en la iteracción: 16\n",
      "La raíz es: -0.0008395505012376265Encontrado en la iteracción: 68\n",
      "El método no convergió\n",
      "El método no convergió\n",
      "El método no convergió\n"
     ]
    }
   ],
   "source": [
    "for i in -10:10\n",
    "    newton(f1,i)\n",
    "end"
   ]
  },
  {
   "cell_type": "code",
   "execution_count": null,
   "metadata": {},
   "outputs": [],
   "source": []
  }
 ],
 "metadata": {
  "kernelspec": {
   "display_name": "Julia 1.11.3",
   "language": "julia",
   "name": "julia-1.11"
  },
  "language_info": {
   "file_extension": ".jl",
   "mimetype": "application/julia",
   "name": "julia",
   "version": "1.11.3"
  }
 },
 "nbformat": 4,
 "nbformat_minor": 2
}
