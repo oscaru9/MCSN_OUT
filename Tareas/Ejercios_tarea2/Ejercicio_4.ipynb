{
 "cells": [
  {
   "cell_type": "code",
   "execution_count": 78,
   "metadata": {},
   "outputs": [
    {
     "data": {
      "text/plain": [
       "newton_finitas (generic function with 3 methods)"
      ]
     },
     "metadata": {},
     "output_type": "display_data"
    }
   ],
   "source": [
    "function newton_finitas(x0, tol=1e-6, maxiter=100)\n",
    "    x = x0\n",
    "    x1= x0 + 0.1\n",
    "    \n",
    "    for i in 1:maxiter\n",
    "        delta = x1 - x0\n",
    "        x2 = x1 - fx(x1)*delta/(fx(x1) - fx(x0))\n",
    "        if abs(fx(x1)) < tol\n",
    "            return x2, i, delta\n",
    "        end\n",
    "        x0, x1 = x1, x2\n",
    "    end\n",
    "    \n",
    "end"
   ]
  },
  {
   "cell_type": "code",
   "execution_count": 79,
   "metadata": {},
   "outputs": [
    {
     "data": {
      "text/plain": [
       "(2.000000000000022, 6, -1.4931031278475615e-5)"
      ]
     },
     "metadata": {},
     "output_type": "display_data"
    }
   ],
   "source": [
    "newton_finitas(3)"
   ]
  }
 ],
 "metadata": {
  "kernelspec": {
   "display_name": "Julia 1.11.3",
   "language": "julia",
   "name": "julia-1.11"
  },
  "language_info": {
   "file_extension": ".jl",
   "mimetype": "application/julia",
   "name": "julia",
   "version": "1.11.3"
  }
 },
 "nbformat": 4,
 "nbformat_minor": 2
}
