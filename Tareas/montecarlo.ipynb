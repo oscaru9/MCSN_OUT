{
 "cells": [
  {
   "cell_type": "code",
   "execution_count": 1,
   "metadata": {},
   "outputs": [
    {
     "data": {
      "text/plain": [
       "f (generic function with 1 method)"
      ]
     },
     "metadata": {},
     "output_type": "display_data"
    }
   ],
   "source": [
    "function f(x, y)\n",
    "    return x^2 + y^2\n",
    "end"
   ]
  },
  {
   "cell_type": "code",
   "execution_count": 52,
   "metadata": {},
   "outputs": [
    {
     "data": {
      "text/plain": [
       "10000000-element Vector{Float64}:\n",
       " 0.8964565136442281\n",
       " 0.801432232849635\n",
       " 0.2044977603453001\n",
       " 0.09233007720703035\n",
       " 0.258987453654268\n",
       " 0.14828325555663002\n",
       " 0.25311158191935956\n",
       " 0.8142321672669022\n",
       " 0.9750646785439268\n",
       " 0.915525446762567\n",
       " ⋮\n",
       " 0.33531815427818235\n",
       " 0.9066713224905686\n",
       " 0.06477049549747815\n",
       " 0.050979420076476045\n",
       " 0.2837771775527326\n",
       " 0.5487782749716859\n",
       " 0.6331118570711661\n",
       " 0.8405253939627835\n",
       " 0.5252851706700404"
      ]
     },
     "metadata": {},
     "output_type": "display_data"
    }
   ],
   "source": [
    "n=10000000\n",
    "x=rand(n)\n",
    "y=rand(n)"
   ]
  },
  {
   "cell_type": "code",
   "execution_count": 53,
   "metadata": {},
   "outputs": [
    {
     "data": {
      "text/plain": [
       "area_circulo (generic function with 2 methods)"
      ]
     },
     "metadata": {},
     "output_type": "display_data"
    }
   ],
   "source": [
    "function area_circulo(f, x, y, n)\n",
    "    count=0\n",
    "    for i in 1:n\n",
    "\n",
    "        if f(x[i],y[i])<=1\n",
    "            count+=1\n",
    "        end\n",
    "    end\n",
    "    return 4*count/n\n",
    "end"
   ]
  },
  {
   "cell_type": "code",
   "execution_count": 54,
   "metadata": {},
   "outputs": [
    {
     "data": {
      "text/plain": [
       "3.1416944"
      ]
     },
     "metadata": {},
     "output_type": "display_data"
    }
   ],
   "source": [
    "area_circulo(f, x, y, n)"
   ]
  },
  {
   "cell_type": "code",
   "execution_count": null,
   "metadata": {},
   "outputs": [],
   "source": []
  }
 ],
 "metadata": {
  "kernelspec": {
   "display_name": "Julia 1.11.3",
   "language": "julia",
   "name": "julia-1.11"
  },
  "language_info": {
   "file_extension": ".jl",
   "mimetype": "application/julia",
   "name": "julia",
   "version": "1.11.3"
  }
 },
 "nbformat": 4,
 "nbformat_minor": 2
}
