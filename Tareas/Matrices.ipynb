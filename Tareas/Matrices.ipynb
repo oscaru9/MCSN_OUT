{
 "cells": [
  {
   "cell_type": "code",
   "execution_count": 1,
   "metadata": {},
   "outputs": [],
   "source": [
    "using SymPy"
   ]
  },
  {
   "cell_type": "code",
   "execution_count": 2,
   "metadata": {},
   "outputs": [
    {
     "data": {
      "text/plain": [
       "(c, d, e)"
      ]
     },
     "metadata": {},
     "output_type": "display_data"
    }
   ],
   "source": [
    "@syms c d e"
   ]
  },
  {
   "cell_type": "markdown",
   "metadata": {},
   "source": [
    "Definir una matriz 2x2"
   ]
  },
  {
   "cell_type": "code",
   "execution_count": 3,
   "metadata": {},
   "outputs": [
    {
     "data": {
      "text/latex": [
       "$\\left[\\begin{smallmatrix}c & d\\\\1 & - e\\end{smallmatrix}\\right]$"
      ],
      "text/plain": [
       "2×2 Matrix{Sym{PyCall.PyObject}}:\n",
       " c   d\n",
       " 1  -e"
      ]
     },
     "metadata": {},
     "output_type": "display_data"
    }
   ],
   "source": [
    "A= SymPy.Matrix([[c d];[1 -e]])"
   ]
  },
  {
   "cell_type": "code",
   "execution_count": null,
   "metadata": {},
   "outputs": [
    {
     "data": {
      "text/plain": [
       "2×1 transpose(::Matrix{Int64}) with eltype Int64:\n",
       " 2\n",
       " 0"
      ]
     },
     "metadata": {},
     "output_type": "display_data"
    }
   ],
   "source": [
    "c=transpose(b)"
   ]
  },
  {
   "cell_type": "code",
   "execution_count": 32,
   "metadata": {},
   "outputs": [
    {
     "data": {
      "text/latex": [
       "$\\left[\\begin{smallmatrix}c & d\\\\e & 2 d\\end{smallmatrix}\\right]$"
      ],
      "text/plain": [
       "2×2 Matrix{Sym{PyCall.PyObject}}:\n",
       " c    d\n",
       " e  2*d"
      ]
     },
     "metadata": {},
     "output_type": "display_data"
    }
   ],
   "source": [
    "B=[c d ; e 2d]"
   ]
  },
  {
   "cell_type": "code",
   "execution_count": 33,
   "metadata": {},
   "outputs": [
    {
     "data": {
      "text/plain": [
       "Matrix{Sym{PyObject}}\u001b[90m (alias for \u001b[39m\u001b[90mArray{Sym{PyCall.PyObject}, 2}\u001b[39m\u001b[90m)\u001b[39m"
      ]
     },
     "metadata": {},
     "output_type": "display_data"
    }
   ],
   "source": [
    "typeof(B)"
   ]
  },
  {
   "cell_type": "code",
   "execution_count": 34,
   "metadata": {},
   "outputs": [
    {
     "data": {
      "text/plain": [
       "2-element Vector{Int64}:\n",
       " 2\n",
       " 0"
      ]
     },
     "metadata": {},
     "output_type": "display_data"
    }
   ],
   "source": [
    "b=[2,0]"
   ]
  },
  {
   "cell_type": "code",
   "execution_count": 37,
   "metadata": {},
   "outputs": [
    {
     "data": {
      "text/latex": [
       "\\begin{equation*}\\begin{cases}2 & \\text{=>} &0\\\\\\end{cases}\\end{equation*}"
      ],
      "text/plain": [
       "Dict{Sym{PyCall.PyObject}, Sym{PyCall.PyObject}} with 1 entry:\n",
       "  2 => 0"
      ]
     },
     "metadata": {},
     "output_type": "display_data"
    }
   ],
   "source": [
    "solve(B, b)"
   ]
  },
  {
   "cell_type": "code",
   "execution_count": 40,
   "metadata": {},
   "outputs": [
    {
     "data": {
      "text/latex": [
       "$\\left[\\begin{smallmatrix}\\frac{2}{2 c - e} & - \\frac{1}{2 c - e}\\\\- \\frac{e}{2 c d - d e} & \\frac{c}{2 c d - d e}\\end{smallmatrix}\\right]$"
      ],
      "text/plain": [
       "2×2 Matrix{Sym{PyCall.PyObject}}:\n",
       "      2/(2*c - e)     -1/(2*c - e)\n",
       " -e/(2*c*d - d*e)  c/(2*c*d - d*e)"
      ]
     },
     "metadata": {},
     "output_type": "display_data"
    }
   ],
   "source": [
    "inv=B.inv()"
   ]
  },
  {
   "cell_type": "code",
   "execution_count": 41,
   "metadata": {},
   "outputs": [
    {
     "data": {
      "text/latex": [
       "$\\left[\\begin{smallmatrix}\\frac{4}{2 c - e}\\\\- \\frac{2 e}{2 c d - d e}\\end{smallmatrix}\\right]$"
      ],
      "text/plain": [
       "2-element Vector{Sym{PyCall.PyObject}}:\n",
       "        4/(2*c - e)\n",
       " -2*e/(2*c*d - d*e)"
      ]
     },
     "metadata": {},
     "output_type": "display_data"
    }
   ],
   "source": [
    "solution= inv*b"
   ]
  },
  {
   "cell_type": "code",
   "execution_count": 42,
   "metadata": {},
   "outputs": [
    {
     "data": {
      "text/latex": [
       "$\\left[\\begin{smallmatrix}\\frac{4 c}{2 c - e} - \\frac{2 d e}{2 c d - d e}\\\\- \\frac{4 d e}{2 c d - d e} + \\frac{4 e}{2 c - e}\\end{smallmatrix}\\right]$"
      ],
      "text/plain": [
       "2-element Vector{Sym{PyCall.PyObject}}:\n",
       "  4*c/(2*c - e) - 2*d*e/(2*c*d - d*e)\n",
       " -4*d*e/(2*c*d - d*e) + 4*e/(2*c - e)"
      ]
     },
     "metadata": {},
     "output_type": "display_data"
    }
   ],
   "source": [
    "B*solution"
   ]
  },
  {
   "cell_type": "code",
   "execution_count": 43,
   "metadata": {},
   "outputs": [
    {
     "data": {
      "text/latex": [
       "$\\left[\\begin{smallmatrix}\\frac{4 c}{2 c - e} - \\frac{2 d e}{2 c d - d e}\\\\- \\frac{4 d e}{2 c d - d e} + \\frac{4 e}{2 c - e}\\end{smallmatrix}\\right]$"
      ],
      "text/plain": [
       "2-element Vector{Sym{PyCall.PyObject}}:\n",
       "  4*c/(2*c - e) - 2*d*e/(2*c*d - d*e)\n",
       " -4*d*e/(2*c*d - d*e) + 4*e/(2*c - e)"
      ]
     },
     "metadata": {},
     "output_type": "display_data"
    }
   ],
   "source": [
    "simplify(B*solution)"
   ]
  },
  {
   "cell_type": "code",
   "execution_count": 44,
   "metadata": {},
   "outputs": [
    {
     "data": {
      "text/latex": [
       "$\\left[\\begin{smallmatrix}\\frac{2 c}{2 c - e} - \\frac{d e}{2 c d - d e} & \\frac{c d}{2 c d - d e} - \\frac{c}{2 c - e}\\\\- \\frac{2 d e}{2 c d - d e} + \\frac{2 e}{2 c - e} & \\frac{2 c d}{2 c d - d e} - \\frac{e}{2 c - e}\\end{smallmatrix}\\right]$"
      ],
      "text/plain": [
       "2×2 Matrix{Sym{PyCall.PyObject}}:\n",
       "    2*c/(2*c - e) - d*e/(2*c*d - d*e)    c*d/(2*c*d - d*e) - c/(2*c - e)\n",
       " -2*d*e/(2*c*d - d*e) + 2*e/(2*c - e)  2*c*d/(2*c*d - d*e) - e/(2*c - e)"
      ]
     },
     "metadata": {},
     "output_type": "display_data"
    }
   ],
   "source": [
    "B*inv"
   ]
  },
  {
   "cell_type": "code",
   "execution_count": 45,
   "metadata": {},
   "outputs": [
    {
     "data": {
      "text/latex": [
       "$\\left[\\begin{smallmatrix}\\frac{2 c}{2 c - e} - \\frac{d e}{2 c d - d e} & \\frac{c d}{2 c d - d e} - \\frac{c}{2 c - e}\\\\- \\frac{2 d e}{2 c d - d e} + \\frac{2 e}{2 c - e} & \\frac{2 c d}{2 c d - d e} - \\frac{e}{2 c - e}\\end{smallmatrix}\\right]$"
      ],
      "text/plain": [
       "2×2 Matrix{Sym{PyCall.PyObject}}:\n",
       "    2*c/(2*c - e) - d*e/(2*c*d - d*e)    c*d/(2*c*d - d*e) - c/(2*c - e)\n",
       " -2*d*e/(2*c*d - d*e) + 2*e/(2*c - e)  2*c*d/(2*c*d - d*e) - e/(2*c - e)"
      ]
     },
     "metadata": {},
     "output_type": "display_data"
    }
   ],
   "source": [
    "simplify(B*inv)"
   ]
  },
  {
   "cell_type": "code",
   "execution_count": null,
   "metadata": {},
   "outputs": [
    {
     "data": {
      "text/latex": [
       "$\\left[\\begin{smallmatrix}\\frac{2 c}{2 c - e} - \\frac{e}{2 c - e} & 0\\\\0 & \\frac{2 c d}{2 c d - d e} - \\frac{d e}{2 c d - d e}\\end{smallmatrix}\\right]$"
      ],
      "text/plain": [
       "2×2 Matrix{Sym{PyCall.PyObject}}:\n",
       " 2*c/(2*c - e) - e/(2*c - e)                                        0\n",
       "                           0  2*c*d/(2*c*d - d*e) - d*e/(2*c*d - d*e)"
      ]
     },
     "metadata": {},
     "output_type": "display_data"
    }
   ],
   "source": [
    "simplify(inv*B)"
   ]
  },
  {
   "cell_type": "code",
   "execution_count": 49,
   "metadata": {},
   "outputs": [
    {
     "data": {
      "text/latex": [
       "$2 c d - d e$"
      ],
      "text/plain": [
       "2*c*d - d*e"
      ]
     },
     "metadata": {},
     "output_type": "display_data"
    }
   ],
   "source": [
    "B.det()"
   ]
  },
  {
   "cell_type": "code",
   "execution_count": 60,
   "metadata": {},
   "outputs": [
    {
     "data": {
      "text/latex": [
       "$\\left[\\begin{smallmatrix}\\frac{4}{2 c - e}\\\\- \\frac{2 e}{2 c d - d e}\\end{smallmatrix}\\right]$"
      ],
      "text/plain": [
       "2-element Vector{Sym{PyCall.PyObject}}:\n",
       "        4/(2*c - e)\n",
       " -2*e/(2*c*d - d*e)"
      ]
     },
     "metadata": {},
     "output_type": "display_data"
    }
   ],
   "source": [
    "solution"
   ]
  },
  {
   "cell_type": "code",
   "execution_count": 63,
   "metadata": {},
   "outputs": [
    {
     "data": {
      "text/latex": [
       "$\\frac{4}{2 c - e}$"
      ],
      "text/plain": [
       "   4   \n",
       "-------\n",
       "2*c - e"
      ]
     },
     "metadata": {},
     "output_type": "display_data"
    }
   ],
   "source": [
    "solution[1]"
   ]
  },
  {
   "cell_type": "code",
   "execution_count": 73,
   "metadata": {},
   "outputs": [
    {
     "data": {
      "text/latex": [
       "$\\left[\\begin{smallmatrix}c \\overline{c} + e \\overline{d} & d \\overline{c} + 2 d \\overline{d}\\\\c \\overline{e} + 2 e \\overline{d} & 4 d \\overline{d} + d \\overline{e}\\end{smallmatrix}\\right]$"
      ],
      "text/plain": [
       "2×2 Matrix{Sym{PyCall.PyObject}}:\n",
       "   c*conjugate(c) + e*conjugate(d)  d*conjugate(c) + 2*d*conjugate(d)\n",
       " c*conjugate(e) + 2*e*conjugate(d)  4*d*conjugate(d) + d*conjugate(e)"
      ]
     },
     "metadata": {},
     "output_type": "display_data"
    }
   ],
   "source": [
    "simplify(B.conjugate()*B)"
   ]
  },
  {
   "cell_type": "code",
   "execution_count": 74,
   "metadata": {},
   "outputs": [],
   "source": [
    "using LinearAlgebra"
   ]
  },
  {
   "cell_type": "code",
   "execution_count": 83,
   "metadata": {},
   "outputs": [
    {
     "data": {
      "text/latex": [
       "$\\left[\\begin{smallmatrix}c & d\\\\- e & d\\end{smallmatrix}\\right]$"
      ],
      "text/plain": [
       "2×2 Matrix{Sym}:\n",
       "  c  d\n",
       " -e  d"
      ]
     },
     "metadata": {},
     "output_type": "display_data"
    }
   ],
   "source": [
    "R=Sym[c d ; -e d]"
   ]
  },
  {
   "cell_type": "code",
   "execution_count": 84,
   "metadata": {},
   "outputs": [
    {
     "data": {
      "text/latex": [
       "$\\left[\\begin{smallmatrix}1\\\\2\\end{smallmatrix}\\right]$"
      ],
      "text/plain": [
       "2-element Vector{Sym}:\n",
       " 1\n",
       " 2"
      ]
     },
     "metadata": {},
     "output_type": "display_data"
    }
   ],
   "source": [
    "b1=Sym[1, 2]"
   ]
  },
  {
   "cell_type": "code",
   "execution_count": 94,
   "metadata": {},
   "outputs": [
    {
     "data": {
      "text/latex": [
       "$\\left[\\begin{smallmatrix}- \\frac{1}{c + e}\\\\\\frac{2 c + e}{c d + d e}\\end{smallmatrix}\\right]$"
      ],
      "text/plain": [
       "2×1 Matrix{Sym{PyCall.PyObject}}:\n",
       "            -1/(c + e)\n",
       " (2*c + e)/(c*d + d*e)"
      ]
     },
     "metadata": {},
     "output_type": "display_data"
    }
   ],
   "source": [
    "R.solve(b1)"
   ]
  },
  {
   "cell_type": "code",
   "execution_count": 82,
   "metadata": {},
   "outputs": [
    {
     "data": {
      "text/latex": [
       "$0$"
      ],
      "text/plain": [
       "0"
      ]
     },
     "metadata": {},
     "output_type": "display_data"
    }
   ],
   "source": [
    "R.det()"
   ]
  },
  {
   "cell_type": "code",
   "execution_count": 86,
   "metadata": {},
   "outputs": [
    {
     "data": {
      "text/latex": [
       "$\\left[\\begin{smallmatrix}\\frac{1}{c + e} & - \\frac{1}{c + e}\\\\\\frac{e}{c d + d e} & \\frac{c}{c d + d e}\\end{smallmatrix}\\right]$"
      ],
      "text/plain": [
       "2×2 Matrix{Sym{PyCall.PyObject}}:\n",
       "     1/(c + e)     -1/(c + e)\n",
       " e/(c*d + d*e)  c/(c*d + d*e)"
      ]
     },
     "metadata": {},
     "output_type": "display_data"
    }
   ],
   "source": [
    "inv=R.inv()"
   ]
  },
  {
   "cell_type": "code",
   "execution_count": 89,
   "metadata": {},
   "outputs": [
    {
     "data": {
      "text/latex": [
       "$\\left[\\begin{smallmatrix}\\frac{c}{c + e} + \\frac{e}{c + e} & 0\\\\0 & \\frac{c d}{c d + d e} + \\frac{d e}{c d + d e}\\end{smallmatrix}\\right]$"
      ],
      "text/plain": [
       "2×2 Matrix{Sym{PyCall.PyObject}}:\n",
       " c/(c + e) + e/(c + e)                                  0\n",
       "                     0  c*d/(c*d + d*e) + d*e/(c*d + d*e)"
      ]
     },
     "metadata": {},
     "output_type": "display_data"
    }
   ],
   "source": [
    "simplify(inv*R)"
   ]
  },
  {
   "cell_type": "code",
   "execution_count": 91,
   "metadata": {},
   "outputs": [
    {
     "data": {
      "text/plain": [
       "(2, 2)"
      ]
     },
     "metadata": {},
     "output_type": "display_data"
    }
   ],
   "source": [
    "B.shape"
   ]
  },
  {
   "cell_type": "code",
   "execution_count": 95,
   "metadata": {},
   "outputs": [
    {
     "data": {
      "text/latex": [
       "$\\left[\\begin{smallmatrix}c & d\\end{smallmatrix}\\right]$"
      ],
      "text/plain": [
       "1×2 Matrix{Sym{PyCall.PyObject}}:\n",
       " c  d"
      ]
     },
     "metadata": {},
     "output_type": "display_data"
    }
   ],
   "source": [
    "B.row(0)"
   ]
  },
  {
   "cell_type": "code",
   "execution_count": 96,
   "metadata": {},
   "outputs": [
    {
     "data": {
      "text/latex": [
       "$\\left[\\begin{smallmatrix}e & 2 d\\end{smallmatrix}\\right]$"
      ],
      "text/plain": [
       "1×2 Matrix{Sym{PyCall.PyObject}}:\n",
       " e  2*d"
      ]
     },
     "metadata": {},
     "output_type": "display_data"
    }
   ],
   "source": [
    "B.row(1)"
   ]
  },
  {
   "cell_type": "code",
   "execution_count": 100,
   "metadata": {},
   "outputs": [
    {
     "data": {
      "text/latex": [
       "$\\left[\\begin{smallmatrix}d\\\\2 d\\end{smallmatrix}\\right]$"
      ],
      "text/plain": [
       "2×1 Matrix{Sym{PyCall.PyObject}}:\n",
       "   d\n",
       " 2*d"
      ]
     },
     "metadata": {},
     "output_type": "display_data"
    }
   ],
   "source": [
    "B.col(1)"
   ]
  },
  {
   "cell_type": "code",
   "execution_count": 101,
   "metadata": {},
   "outputs": [
    {
     "data": {
      "text/latex": [
       "$\\left[\\begin{smallmatrix}d\\\\2 d\\end{smallmatrix}\\right]$"
      ],
      "text/plain": [
       "2×1 Matrix{Sym{PyCall.PyObject}}:\n",
       "   d\n",
       " 2*d"
      ]
     },
     "metadata": {},
     "output_type": "display_data"
    }
   ],
   "source": [
    "B.col(-1)"
   ]
  },
  {
   "cell_type": "code",
   "execution_count": 102,
   "metadata": {},
   "outputs": [
    {
     "data": {
      "text/latex": [
       "$\\left[\\begin{smallmatrix}c & - 2 e\\\\1 & d\\end{smallmatrix}\\right]$"
      ],
      "text/plain": [
       "[c  -2*e]\n",
       "[       ]\n",
       "[1   d  ]"
      ]
     },
     "metadata": {},
     "output_type": "display_data"
    }
   ],
   "source": [
    "M=sympy.ImmutableMatrix([c -2e; 1 d])"
   ]
  },
  {
   "cell_type": "code",
   "execution_count": 103,
   "metadata": {},
   "outputs": [
    {
     "data": {
      "text/latex": [
       "$\\left[\\begin{smallmatrix}c\\\\1\\end{smallmatrix}\\right]$"
      ],
      "text/plain": [
       "[c]\n",
       "[ ]\n",
       "[1]"
      ]
     },
     "metadata": {},
     "output_type": "display_data"
    }
   ],
   "source": [
    "M.col_del(1)"
   ]
  },
  {
   "cell_type": "code",
   "execution_count": 106,
   "metadata": {},
   "outputs": [
    {
     "data": {
      "text/latex": [
       "$\\left[\\begin{smallmatrix}c & - 2 e & - 2 e\\\\1 & d & d\\end{smallmatrix}\\right]$"
      ],
      "text/plain": [
       "[c  -2*e  -2*e]\n",
       "[             ]\n",
       "[1   d     d  ]"
      ]
     },
     "metadata": {},
     "output_type": "display_data"
    }
   ],
   "source": [
    "M.col_insert(1, Sym[-2e, d])"
   ]
  },
  {
   "cell_type": "code",
   "execution_count": 107,
   "metadata": {},
   "outputs": [
    {
     "data": {
      "text/latex": [
       "$\\left[\\begin{smallmatrix}c & - 2 e\\\\1 & d\\end{smallmatrix}\\right]$"
      ],
      "text/plain": [
       "[c  -2*e]\n",
       "[       ]\n",
       "[1   d  ]"
      ]
     },
     "metadata": {},
     "output_type": "display_data"
    }
   ],
   "source": [
    "M\n"
   ]
  },
  {
   "cell_type": "code",
   "execution_count": 108,
   "metadata": {},
   "outputs": [
    {
     "data": {
      "text/latex": [
       "$\\left[\\begin{smallmatrix}\\frac{d}{c d + 2 e} & \\frac{2 e}{c d + 2 e}\\\\- \\frac{1}{c d + 2 e} & \\frac{c}{c d + 2 e}\\end{smallmatrix}\\right]$"
      ],
      "text/plain": [
       "[    d         2*e   ]\n",
       "[---------  ---------]\n",
       "[c*d + 2*e  c*d + 2*e]\n",
       "[                    ]\n",
       "[   -1          c    ]\n",
       "[---------  ---------]\n",
       "[c*d + 2*e  c*d + 2*e]"
      ]
     },
     "metadata": {},
     "output_type": "display_data"
    }
   ],
   "source": [
    "M^-1"
   ]
  },
  {
   "cell_type": "code",
   "execution_count": 111,
   "metadata": {},
   "outputs": [
    {
     "data": {
      "text/latex": [
       "$\\left[\\begin{smallmatrix}1 & 0\\\\0 & 1\\end{smallmatrix}\\right]$"
      ],
      "text/plain": [
       "[1  0]\n",
       "[    ]\n",
       "[0  1]"
      ]
     },
     "metadata": {},
     "output_type": "display_data"
    }
   ],
   "source": [
    "simplify(M*M^-1)"
   ]
  },
  {
   "cell_type": "code",
   "execution_count": 113,
   "metadata": {},
   "outputs": [
    {
     "data": {
      "text/latex": [
       "$\\left[\\begin{smallmatrix}1 & 0 & 0\\\\0 & 1 & 0\\\\0 & 0 & 1\\end{smallmatrix}\\right]$"
      ],
      "text/plain": [
       "3×3 Matrix{Sym{PyCall.PyObject}}:\n",
       " 1  0  0\n",
       " 0  1  0\n",
       " 0  0  1"
      ]
     },
     "metadata": {},
     "output_type": "display_data"
    }
   ],
   "source": [
    "sympy.eye(3)"
   ]
  },
  {
   "cell_type": "code",
   "execution_count": 114,
   "metadata": {},
   "outputs": [
    {
     "data": {
      "text/latex": [
       "$\\left[\\begin{smallmatrix}0 & 0 & 0\\\\0 & 0 & 0\\end{smallmatrix}\\right]$"
      ],
      "text/plain": [
       "2×3 Matrix{Sym{PyCall.PyObject}}:\n",
       " 0  0  0\n",
       " 0  0  0"
      ]
     },
     "metadata": {},
     "output_type": "display_data"
    }
   ],
   "source": [
    "sympy.zeros(2,3)"
   ]
  },
  {
   "cell_type": "code",
   "execution_count": 115,
   "metadata": {},
   "outputs": [
    {
     "data": {
      "text/plain": [
       "2×3 Matrix{Float64}:\n",
       " 1.0  1.0  1.0\n",
       " 1.0  1.0  1.0"
      ]
     },
     "metadata": {},
     "output_type": "display_data"
    }
   ],
   "source": [
    "ones(2,3)"
   ]
  },
  {
   "cell_type": "code",
   "execution_count": 116,
   "metadata": {},
   "outputs": [
    {
     "data": {
      "text/latex": [
       "$\\left[\\begin{smallmatrix}1 & 1 & 1\\\\1 & 1 & 1\\end{smallmatrix}\\right]$"
      ],
      "text/plain": [
       "2×3 Matrix{Sym}:\n",
       " 1  1  1\n",
       " 1  1  1"
      ]
     },
     "metadata": {},
     "output_type": "display_data"
    }
   ],
   "source": [
    "ones(Sym, 2, 3)"
   ]
  },
  {
   "cell_type": "code",
   "execution_count": 118,
   "metadata": {},
   "outputs": [
    {
     "data": {
      "text/latex": [
       "$\\left[\\begin{smallmatrix}1 & 0 & 0\\\\0 & 2 & 0\\\\0 & 0 & 3\\end{smallmatrix}\\right]$"
      ],
      "text/plain": [
       "3×3 Matrix{Sym{PyCall.PyObject}}:\n",
       " 1  0  0\n",
       " 0  2  0\n",
       " 0  0  3"
      ]
     },
     "metadata": {},
     "output_type": "display_data"
    }
   ],
   "source": [
    "sympy.diag(1,2,3)"
   ]
  },
  {
   "cell_type": "code",
   "execution_count": 121,
   "metadata": {},
   "outputs": [
    {
     "data": {
      "text/latex": [
       "$\\left[\\begin{smallmatrix}1 & 0 & 0 & 0 & 0\\\\0 & 1 & 1 & 0 & 0\\\\0 & 1 & 1 & 0 & 0\\\\0 & 0 & 0 & 2 & 3\\\\0 & 0 & 0 & 1 & 4\\end{smallmatrix}\\right]$"
      ],
      "text/plain": [
       "5×5 Matrix{Sym{PyCall.PyObject}}:\n",
       " 1  0  0  0  0\n",
       " 0  1  1  0  0\n",
       " 0  1  1  0  0\n",
       " 0  0  0  2  3\n",
       " 0  0  0  1  4"
      ]
     },
     "metadata": {},
     "output_type": "display_data"
    }
   ],
   "source": [
    "sympy.diag(1, ones(Sym, 2, 2), Sym[2 3; 1 4])"
   ]
  },
  {
   "cell_type": "code",
   "execution_count": 124,
   "metadata": {},
   "outputs": [
    {
     "data": {
      "text/latex": [
       "$\\left[\\begin{smallmatrix}c & - 2 e\\\\1 & d\\end{smallmatrix}\\right]$"
      ],
      "text/plain": [
       "[c  -2*e]\n",
       "[       ]\n",
       "[1   d  ]"
      ]
     },
     "metadata": {},
     "output_type": "display_data"
    }
   ],
   "source": [
    "M"
   ]
  },
  {
   "cell_type": "code",
   "execution_count": 123,
   "metadata": {},
   "outputs": [
    {
     "data": {
      "text/latex": [
       "\\begin{equation*}\\begin{cases}\\frac{c}{2} + \\frac{d}{2} + \\frac{\\sqrt{c^{2} - 2 c d + d^{2} - 8 e}}{2} & \\text{=>} &1\\\\\\frac{c}{2} + \\frac{d}{2} - \\frac{\\sqrt{c^{2} - 2 c d + d^{2} - 8 e}}{2} & \\text{=>} &1\\\\\\end{cases}\\end{equation*}"
      ],
      "text/plain": [
       "Dict{Sym{PyCall.PyObject}, Sym{PyCall.PyObject}} with 2 entries:\n",
       "  c/2 + d/2 + sqrt(c^2 - 2*c*d + d^2 - 8*e)/2 => 1\n",
       "  c/2 + d/2 - sqrt(c^2 - 2*c*d + d^2 - 8*e)/2 => 1"
      ]
     },
     "metadata": {},
     "output_type": "display_data"
    }
   ],
   "source": [
    "M.eigenvals()"
   ]
  },
  {
   "cell_type": "code",
   "execution_count": 127,
   "metadata": {},
   "outputs": [
    {
     "data": {
      "text/plain": [
       "2-element Vector{Tuple{Sym{PyCall.PyObject}, Sym{PyCall.PyObject}, Vector{Sym{PyCall.PyObject}}}}:\n",
       " (c/2 + d/2 - sqrt(c^2 - 2*c*d + d^2 - 8*e)/2, 1, [Matrix([\n",
       "[c/2 - d/2 - sqrt(c^2 - 2*c*d + d^2 - 8*e)/2],\n",
       "[                                            1]])])\n",
       " (c/2 + d/2 + sqrt(c^2 - 2*c*d + d^2 - 8*e)/2, 1, [Matrix([\n",
       "[c/2 - d/2 + sqrt(c^2 - 2*c*d + d^2 - 8*e)/2],\n",
       "[                                            1]])])"
      ]
     },
     "metadata": {},
     "output_type": "display_data"
    }
   ],
   "source": [
    "M.eigenvects()"
   ]
  },
  {
   "cell_type": "code",
   "execution_count": 132,
   "metadata": {},
   "outputs": [
    {
     "data": {
      "text/latex": [
       "$\\left[\\begin{smallmatrix}- \\frac{2 d}{e} + \\frac{\\frac{c}{2} + d - \\frac{\\sqrt{c^{2} - 4 c d + 4 d^{2} + 4 d e}}{2}}{e} & - \\frac{2 d}{e} + \\frac{\\frac{c}{2} + d + \\frac{\\sqrt{c^{2} - 4 c d + 4 d^{2} + 4 d e}}{2}}{e}\\\\1 & 1\\end{smallmatrix}\\right]$"
      ],
      "text/plain": [
       "2×2 Matrix{Sym{PyCall.PyObject}}:\n",
       " -2*d/e + (c/2 + d - sqrt(c^2 - 4*c*d + 4*d^2 + 4*d*e)/2)/e  …  -2*d/e + (c/2 + d + sqrt(c^2 - 4*c*d + 4*d^2 + 4*d*e)/2)/e\n",
       "                                                          1                                                              1"
      ]
     },
     "metadata": {},
     "output_type": "display_data"
    }
   ],
   "source": [
    "eigvecs(B)"
   ]
  },
  {
   "cell_type": "code",
   "execution_count": 140,
   "metadata": {},
   "outputs": [
    {
     "data": {
      "text/plain": [
       "(Matrix([\n",
       "[c/2 - d/2 - sqrt(c^2 - 2*c*d + d^2 - 8*e)/2, c/2 - d/2 + sqrt(c^2 - 2*c*d + d^2 - 8*e)/2],\n",
       "[                                            1,                                             1]]), Matrix([\n",
       "[c/2 + d/2 - sqrt(c^2 - 2*c*d + d^2 - 8*e)/2,                                             0],\n",
       "[                                            0, c/2 + d/2 + sqrt(c^2 - 2*c*d + d^2 - 8*e)/2]]))"
      ]
     },
     "metadata": {},
     "output_type": "display_data"
    }
   ],
   "source": [
    "P, D=M.diagonalize()"
   ]
  },
  {
   "cell_type": "code",
   "execution_count": 141,
   "metadata": {},
   "outputs": [
    {
     "data": {
      "text/latex": [
       "$\\left[\\begin{smallmatrix}\\frac{c}{2} - \\frac{d}{2} - \\frac{\\sqrt{c^{2} - 2 c d + d^{2} - 8 e}}{2} & \\frac{c}{2} - \\frac{d}{2} + \\frac{\\sqrt{c^{2} - 2 c d + d^{2} - 8 e}}{2}\\\\1 & 1\\end{smallmatrix}\\right]$"
      ],
      "text/plain": [
       "[           _______________________             _______________________]\n",
       "[          /  2            2                   /  2            2       ]\n",
       "[c   d   \\/  c  - 2*c*d + d  - 8*e   c   d   \\/  c  - 2*c*d + d  - 8*e ]\n",
       "[- - - - --------------------------  - - - + --------------------------]\n",
       "[2   2               2               2   2               2             ]\n",
       "[                                                                      ]\n",
       "[                1                                   1                 ]"
      ]
     },
     "metadata": {},
     "output_type": "display_data"
    }
   ],
   "source": [
    "P"
   ]
  },
  {
   "cell_type": "code",
   "execution_count": 139,
   "metadata": {},
   "outputs": [
    {
     "data": {
      "text/latex": [
       "$\\left[\\begin{smallmatrix}\\frac{c}{2} + d - \\frac{\\sqrt{c^{2} - 4 c d + 4 d^{2} + 4 d e}}{2} & 0\\\\0 & \\frac{c}{2} + d + \\frac{\\sqrt{c^{2} - 4 c d + 4 d^{2} + 4 d e}}{2}\\end{smallmatrix}\\right]$"
      ],
      "text/plain": [
       "2×2 Matrix{Sym{PyCall.PyObject}}:\n",
       " c/2 + d - sqrt(c^2 - 4*c*d + 4*d^2 + 4*d*e)/2  …                                              0\n",
       "                                             0     c/2 + d + sqrt(c^2 - 4*c*d + 4*d^2 + 4*d*e)/2"
      ]
     },
     "metadata": {},
     "output_type": "display_data"
    }
   ],
   "source": [
    "D"
   ]
  },
  {
   "cell_type": "code",
   "execution_count": 143,
   "metadata": {},
   "outputs": [
    {
     "data": {
      "text/plain": [
       "true"
      ]
     },
     "metadata": {},
     "output_type": "display_data"
    }
   ],
   "source": [
    "P*D*P^-1==M"
   ]
  },
  {
   "cell_type": "code",
   "execution_count": 144,
   "metadata": {},
   "outputs": [
    {
     "data": {
      "text/latex": [
       "$\\operatorname{PurePoly}{\\left( \\lambda^{2} + \\left(- c - d\\right) \\lambda + c d + 2 e, \\lambda, domain=\\mathbb{Z}\\left[c, d, e\\right] \\right)}$"
      ],
      "text/plain": [
       "PurePoly(lamda^2 + (-c - d)*lamda + c*d + 2*e, lamda, domain='ZZ[c,d,e]')"
      ]
     },
     "metadata": {},
     "output_type": "display_data"
    }
   ],
   "source": [
    "lamda= symbols(\"lamda\")\n",
    "p=M.charpoly(lamda)\n",
    "factor(p)"
   ]
  }
 ],
 "metadata": {
  "kernelspec": {
   "display_name": "Julia 1.11.3",
   "language": "julia",
   "name": "julia-1.11"
  },
  "language_info": {
   "file_extension": ".jl",
   "mimetype": "application/julia",
   "name": "julia",
   "version": "1.11.3"
  }
 },
 "nbformat": 4,
 "nbformat_minor": 2
}
